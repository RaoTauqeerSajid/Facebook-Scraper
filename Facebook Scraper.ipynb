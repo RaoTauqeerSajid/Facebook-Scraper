{
 "cells": [
  {
   "cell_type": "code",
   "execution_count": 1,
   "metadata": {},
   "outputs": [],
   "source": [
    "import requests\n",
    "from bs4 import BeautifulSoup as bs"
   ]
  },
  {
   "cell_type": "code",
   "execution_count": 2,
   "metadata": {},
   "outputs": [],
   "source": [
    "username = 'luckyracer733@gmail.com'\n",
    "password = '12345678asdf'\n",
    "\n",
    "profile_link = 'https://www.facebook.com/rao.tauqeer.758' #https://www.facebook.com/mohsan.ali.7330'"
   ]
  },
  {
   "cell_type": "code",
   "execution_count": 3,
   "metadata": {},
   "outputs": [],
   "source": [
    "class FaceBookBot():\n",
    "    login_basic_url = 'https://mbasic.facebook.com/login'\n",
    "    login_mobile_url = 'https://m.facebook.com/login'\n",
    "    payload = {\n",
    "            'email': username,\n",
    "            'pass': password\n",
    "        }\n",
    "    post_ID = \"\"\n",
    "\n",
    "    def parse_html(self, profile_link):\n",
    "        with requests.Session() as session:\n",
    "            post = session.post(self.login_basic_url, data=self.payload, headers = {\"Accept-Language\": \"en-US\"})\n",
    "            parsed_html = session.get(profile_link)\n",
    "        return parsed_html"
   ]
  },
  {
   "cell_type": "code",
   "execution_count": 4,
   "metadata": {},
   "outputs": [],
   "source": [
    "bot = FaceBookBot()\n",
    "source = bot.parse_html(profile_link)\n",
    "\n",
    "soup = bs(source.text, 'lxml')\n",
    "element = soup.find_all(\"div\", {'class':\"hidden_elem\"})[5]\n",
    "user_info = next(next(element.children).children)\n",
    "user_info = bs(user_info, 'lxml')\n",
    "user_name = user_info.find('a', class_='_2nlw _2nlv').get_text()\n",
    "cover_image = user_info.find('a', class_='coverWrap coverImage')['href']\n",
    "profile_photo = user_info.find('a', class_='_1nv3 _11kg _1nv5 profilePicThumb')['href']"
   ]
  },
  {
   "cell_type": "code",
   "execution_count": 5,
   "metadata": {},
   "outputs": [],
   "source": [
    "# with open('facebook.html', 'w') as f:\n",
    "#     f.write(source.text)"
   ]
  },
  {
   "cell_type": "code",
   "execution_count": 6,
   "metadata": {},
   "outputs": [],
   "source": [
    "about_link = user_info.find_all('a', class_='_6-6')[1]['href']\n",
    "friends_link = user_info.find_all('a', class_='_6-6')[2]['href']\n",
    "photos_link = user_info.find_all('a', class_='_6-6')[3]['href']\n",
    "# about_source = bot.parse_html()"
   ]
  },
  {
   "cell_type": "code",
   "execution_count": 7,
   "metadata": {},
   "outputs": [
    {
     "data": {
      "text/plain": [
       "'https://www.facebook.com/rao.tauqeer.758/photos?lst=100054997057952%3A100003280856913%3A1599483946'"
      ]
     },
     "execution_count": 7,
     "metadata": {},
     "output_type": "execute_result"
    }
   ],
   "source": [
    "user_info.find_all('a', class_='_6-6')[3]['href']"
   ]
  },
  {
   "cell_type": "code",
   "execution_count": 8,
   "metadata": {},
   "outputs": [],
   "source": [
    "about_overview_source = bot.parse_html(about_link)"
   ]
  },
  {
   "cell_type": "code",
   "execution_count": 9,
   "metadata": {},
   "outputs": [],
   "source": [
    "about_overview_soup = bs(about_overview_source.text, 'lxml')"
   ]
  },
  {
   "cell_type": "code",
   "execution_count": 10,
   "metadata": {},
   "outputs": [],
   "source": [
    "with open('facebook_about.html', 'w') as f:\n",
    "    f.write(about_overview_source.text)"
   ]
  },
  {
   "cell_type": "code",
   "execution_count": 11,
   "metadata": {},
   "outputs": [],
   "source": [
    "overview_elements = next(next(about_overview_soup.find_all(\"div\", {'class':\"hidden_elem\"})[12].children).children)"
   ]
  },
  {
   "cell_type": "code",
   "execution_count": 12,
   "metadata": {},
   "outputs": [],
   "source": [
    "overview_elements = bs(overview_elements, 'lxml')"
   ]
  },
  {
   "cell_type": "code",
   "execution_count": 13,
   "metadata": {
    "scrolled": true
   },
   "outputs": [
    {
     "name": "stdout",
     "output_type": "stream",
     "text": [
      "Research Assistant (RA) at National Center for Cyber Security Pakistan\n",
      "24 August 2020 to present\n",
      "Studied BS in Computer Science at Air University\n",
      "Attended from 2016 to 2020\n",
      "Lives in Islamabad, Pakistan\n",
      "From Wazirabad\n"
     ]
    }
   ],
   "source": [
    "ov_elements = overview_elements.find_all('div', class_='_c24 _50f4')\n",
    "ov_elements_1 = overview_elements.find_all('div', class_='fsm fwn fcg')\n",
    "for i in range(len(ov_elements)):\n",
    "    try:\n",
    "        print(ov_elements[i].get_text())\n",
    "    except:\n",
    "        pass\n",
    "    try:\n",
    "        print(ov_elements_1[i].get_text())\n",
    "    except:\n",
    "        pass"
   ]
  },
  {
   "cell_type": "code",
   "execution_count": 14,
   "metadata": {},
   "outputs": [
    {
     "name": "stdout",
     "output_type": "stream",
     "text": [
      "2 family members\n"
     ]
    }
   ],
   "source": [
    "try:\n",
    "    print(overview_elements.find('span', class_='_c24 _2iem').get_text())\n",
    "except:\n",
    "    pass"
   ]
  },
  {
   "cell_type": "code",
   "execution_count": 15,
   "metadata": {},
   "outputs": [
    {
     "name": "stdout",
     "output_type": "stream",
     "text": [
      "Date of birth\n",
      "10 September 1996\n"
     ]
    }
   ],
   "source": [
    "try:\n",
    "    for i in (overview_elements.find('span', class_='_c24 _2ieq')).find_all('div'):\n",
    "        print(i.get_text())\n",
    "except:\n",
    "    pass"
   ]
  },
  {
   "cell_type": "code",
   "execution_count": 16,
   "metadata": {},
   "outputs": [],
   "source": [
    "user = profile_link.split('/')[-1]"
   ]
  },
  {
   "cell_type": "code",
   "execution_count": 17,
   "metadata": {},
   "outputs": [],
   "source": [
    "education_link = 'https://www.facebook.com/{}?sk=about&section=education&lst=100054997057952%3A100003280856913%3A1599477054'\n",
    "places_lived_link = 'https://www.facebook.com/{}?sk=about&section=living&lst=100054997057952%3A100003280856913%3A1599477054'\n",
    "contact_basic_info_link = 'https://www.facebook.com/{}?sk=about&section=contact-info&lst=100054997057952%3A100003280856913%3A1599477054'\n",
    "family_relationship_link = 'https://www.facebook.com/{}?sk=about&section=relationship&lst=100054997057952%3A100003280856913%3A1599477054'\n",
    "details_about_user_link = 'https://www.facebook.com/{}?sk=about&section=bio&lst=100054997057952%3A100003280856913%3A1599477054'\n",
    "life_events_link = 'https://www.facebook.com/{}?sk=about&section=year-overviews&lst=100054997057952%3A100003280856913%3A1599477054'"
   ]
  },
  {
   "cell_type": "code",
   "execution_count": 18,
   "metadata": {},
   "outputs": [],
   "source": [
    "education_link = education_link.format(user)\n",
    "about_education_source = bot.parse_html(education_link)\n",
    "about_education_soup = bs(about_education_source.text, 'lxml')"
   ]
  },
  {
   "cell_type": "code",
   "execution_count": 19,
   "metadata": {},
   "outputs": [],
   "source": [
    "# with open('facebook_education.html', 'w') as f:\n",
    "#     f.write(about_education_source.text)"
   ]
  },
  {
   "cell_type": "code",
   "execution_count": 20,
   "metadata": {},
   "outputs": [],
   "source": [
    "about_education_elements = next(next(about_education_soup.find_all(\"div\", {'class':\"hidden_elem\"})[13].children).children)"
   ]
  },
  {
   "cell_type": "code",
   "execution_count": 21,
   "metadata": {},
   "outputs": [],
   "source": [
    "about_education_elements = bs(about_education_elements, 'lxml')"
   ]
  },
  {
   "cell_type": "code",
   "execution_count": 22,
   "metadata": {},
   "outputs": [
    {
     "name": "stdout",
     "output_type": "stream",
     "text": [
      "Work\n",
      "National Center for Cyber Security Pakistan\n",
      "Research Assistant (RA) · 24 August 2020 to present\n",
      "Professional Skills\n",
      "National Center for Cyber Security Pakistan\n",
      "internship · 10 June 2019 to 31 August 2019 · Islamabad, Pakistan\n",
      "Education\n",
      "Air University\n",
      "Class of 2020 · BS in Computer Science · Islamabad, Pakistan\n",
      "govt collage gujranwala\n",
      "Class of 2015 · pre engenering · Gujranwala, Pakistan\n",
      "Government High School, Ahmad Nagar (GHSAN)\n",
      "Gujranwala, Pakistan\n"
     ]
    }
   ],
   "source": [
    "edu_elements = about_education_elements.find_all('div', class_='_2lzr _50f5 _50f7')\n",
    "edu_elements_1 = about_education_elements.find_all('div', class_='fsm fwn fcg')\n",
    "edu_titles = about_education_elements.find_all('span', class_='_h72 lfloat _ohe _50f7')\n",
    "for i in range(len(edu_elements)):\n",
    "    try:\n",
    "        print(edu_titles[i].get_text())\n",
    "    except:\n",
    "        pass\n",
    "    try:\n",
    "        print(edu_elements[i].get_text())\n",
    "    except:\n",
    "        pass\n",
    "    try:\n",
    "        print(edu_elements_1[i].get_text())\n",
    "    except:\n",
    "        pass"
   ]
  },
  {
   "cell_type": "code",
   "execution_count": 23,
   "metadata": {},
   "outputs": [],
   "source": [
    "places_lived_link = places_lived_link.format(user)\n",
    "about_placed_source = bot.parse_html(places_lived_link)\n",
    "about_placed_soup = bs(about_placed_source.text, 'lxml')"
   ]
  },
  {
   "cell_type": "code",
   "execution_count": 24,
   "metadata": {},
   "outputs": [],
   "source": [
    "# with open('facebook_placed.html', 'w') as f:\n",
    "#     f.write(about_placed_source.text)"
   ]
  },
  {
   "cell_type": "code",
   "execution_count": 25,
   "metadata": {},
   "outputs": [],
   "source": [
    "about_placed_elements = next(next(about_placed_soup.find_all(\"div\", {'class':\"hidden_elem\"})[13].children).children)"
   ]
  },
  {
   "cell_type": "code",
   "execution_count": 26,
   "metadata": {},
   "outputs": [],
   "source": [
    "about_placed_elements = bs(about_placed_elements, 'lxml')"
   ]
  },
  {
   "cell_type": "code",
   "execution_count": 27,
   "metadata": {},
   "outputs": [
    {
     "name": "stdout",
     "output_type": "stream",
     "text": [
      "Current City and Home Town\n",
      "No places to show\n"
     ]
    }
   ],
   "source": [
    "print(about_placed_elements.find('span', class_='_h72 lfloat _ohe _50f7').get_text())\n",
    "for i in about_placed_elements.find_all('span', class_='_50f8 _2iem'):\n",
    "    print(i.get_text())"
   ]
  },
  {
   "cell_type": "code",
   "execution_count": 28,
   "metadata": {},
   "outputs": [
    {
     "name": "stdout",
     "output_type": "stream",
     "text": [
      "C Plus Plus · C sharp · Data science · Database · Machine Learning · MS-SQL · Python · Web scraping\n"
     ]
    }
   ],
   "source": [
    "try:\n",
    "    print(about_education_elements.find('div', class_='fsl fwn fcg').get_text())\n",
    "except:\n",
    "    pass"
   ]
  },
  {
   "cell_type": "code",
   "execution_count": null,
   "metadata": {},
   "outputs": [],
   "source": []
  }
 ],
 "metadata": {
  "kernelspec": {
   "display_name": "Python 3",
   "language": "python",
   "name": "python3"
  },
  "language_info": {
   "codemirror_mode": {
    "name": "ipython",
    "version": 3
   },
   "file_extension": ".py",
   "mimetype": "text/x-python",
   "name": "python",
   "nbconvert_exporter": "python",
   "pygments_lexer": "ipython3",
   "version": "3.8.3"
  }
 },
 "nbformat": 4,
 "nbformat_minor": 4
}
