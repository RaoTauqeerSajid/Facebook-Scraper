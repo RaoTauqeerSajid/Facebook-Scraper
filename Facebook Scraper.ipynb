{
 "cells": [
  {
   "cell_type": "code",
   "execution_count": 1,
   "metadata": {},
   "outputs": [],
   "source": [
    "import requests\n",
    "from bs4 import BeautifulSoup as bs\n",
    "import time"
   ]
  },
  {
   "cell_type": "code",
   "execution_count": 2,
   "metadata": {},
   "outputs": [],
   "source": [
    "username = ''\n",
    "password = ''\n",
    "\n",
    "profile_link = 'https://www.facebook.com/rao.tauqeer.758' #https://www.facebook.com/mohsan.ali.7330'"
   ]
  },
  {
   "cell_type": "code",
   "execution_count": 3,
   "metadata": {},
   "outputs": [],
   "source": [
    "class FaceBookBot():\n",
    "    login_basic_url = 'https://mbasic.facebook.com/login'\n",
    "    login_mobile_url = 'https://m.facebook.com/login'\n",
    "    payload = {\n",
    "            'email': username,\n",
    "            'pass': password\n",
    "        }\n",
    "    \n",
    "    headers = {'User-Agent': 'Mozilla/5.0 (X11; Linux x86_64) AppleWebKit/537.36 (KHTML, like Gecko) Chrome/84.0.4147.105 Safari/537.36',\n",
    "              \"Accept-Language\": \"en-US\"\n",
    "              }\n",
    "    \n",
    "    post_ID = \"\"\n",
    "    user = \"\"\n",
    "    session_flag = True\n",
    "\n",
    "    def parse_facebook(self, link):\n",
    "        self.user = profile_link.split('/')[-1]\n",
    "        source = self.parse_html(link)\n",
    "        self.parse_user_info(source)\n",
    "        \n",
    "    def parse_html(self, profile_link):\n",
    "        with requests.Session() as session:\n",
    "            if self.session_flag:\n",
    "                post = session.post(self.login_basic_url, data=self.payload, headers = self.headers)\n",
    "                parsed_html = session.get(profile_link)\n",
    "            else:\n",
    "                time.sleep(30)\n",
    "                parsed_html = session.get(profile_link)\n",
    "            \n",
    "        return parsed_html\n",
    "    \n",
    "    def parse_user_info(self, response):\n",
    "        try:\n",
    "            soup = bs(response.text, 'lxml')\n",
    "            element = soup.find_all(\"div\", {'class':\"hidden_elem\"})[5]\n",
    "            user_info = next(next(element.children).children)\n",
    "            user_info = bs(user_info, 'lxml')\n",
    "            user_name = user_info.find('a', class_='_2nlw _2nlv').get_text()\n",
    "            print('User Name: ', user_name)\n",
    "\n",
    "            cover_image = user_info.find('a', class_='coverWrap coverImage')['href']\n",
    "            print('Cover iamge link: ', cover_image) \n",
    "\n",
    "            profile_photo = user_info.find('a', class_='_1nv3 _11kg _1nv5 profilePicThumb')['href']\n",
    "            print('Profile image link: ', profile_photo)\n",
    "\n",
    "            about_link = user_info.find_all('a', class_='_6-6')[1]['href']\n",
    "            friends_link = user_info.find_all('a', class_='_6-6')[2]['href']\n",
    "            photos_link = user_info.find_all('a', class_='_6-6')[3]['href']\n",
    "\n",
    "            about_overview_source = self.parse_html(about_link)\n",
    "            self.parse_about(about_overview_source)\n",
    "        except:\n",
    "            print('There is something wrong. Please check the selectors.')\n",
    "        \n",
    "    def parse_about(self, response):\n",
    "        about_overview_soup = bs(response.text, 'lxml')\n",
    "        overview_elements = next(next(about_overview_soup.find_all(\"div\", {'class':\"hidden_elem\"})[12].children).children)\n",
    "        overview_elements = bs(overview_elements, 'lxml')\n",
    "        ov_elements = overview_elements.find_all('div', class_='_c24 _50f4')\n",
    "        ov_elements_1 = overview_elements.find_all('div', class_='fsm fwn fcg')\n",
    "        for i in range(len(ov_elements)):\n",
    "            try:\n",
    "                print(ov_elements[i].get_text())\n",
    "            except:\n",
    "                pass\n",
    "            try:\n",
    "                print(ov_elements_1[i].get_text())\n",
    "            except:\n",
    "                pass\n",
    "\n",
    "        try:\n",
    "            print(overview_elements.find('span', class_='_c24 _2iem').get_text())\n",
    "        except:\n",
    "            pass\n",
    "\n",
    "        try:\n",
    "            for i in (overview_elements.find('span', class_='_c24 _2ieq')).find_all('div'):\n",
    "                print(i.get_text())\n",
    "        except:\n",
    "            pass\n",
    "\n",
    "        education_link = 'https://www.facebook.com/{}?sk=about&section=education&lst=100054997057952%3A100003280856913%3A1599477054'\n",
    "        places_lived_link = 'https://www.facebook.com/{}?sk=about&section=living&lst=100054997057952%3A100003280856913%3A1599477054'\n",
    "        contact_basic_info_link = 'https://www.facebook.com/{}?sk=about&section=contact-info&lst=100054997057952%3A100003280856913%3A1599477054'\n",
    "        family_relationship_link = 'https://www.facebook.com/{}?sk=about&section=relationship&lst=100054997057952%3A100003280856913%3A1599477054'\n",
    "        details_about_user_link = 'https://www.facebook.com/{}?sk=about&section=bio&lst=100054997057952%3A100003280856913%3A1599477054'\n",
    "        life_events_link = 'https://www.facebook.com/{}?sk=about&section=year-overviews&lst=100054997057952%3A100003280856913%3A1599477054'\n",
    "\n",
    "        education_link = education_link.format(self.user)\n",
    "        about_education_source = self.parse_html(education_link)\n",
    "        about_education_soup = bs(about_education_source.text, 'lxml')\n",
    "        about_education_elements = next(next(about_education_soup.find_all(\"div\", {'class':\"hidden_elem\"})[13].children).children)\n",
    "        about_education_elements = bs(about_education_elements, 'lxml')\n",
    "\n",
    "        edu_elements = about_education_elements.find_all('div', class_='_2lzr _50f5 _50f7')\n",
    "        edu_elements_1 = about_education_elements.find_all('div', class_='fsm fwn fcg')\n",
    "#         edu_titles = about_education_elements.find_all('span', class_='_h72 lfloat _ohe _50f7')\n",
    "        for i in range(len(edu_elements)):\n",
    "#             try:\n",
    "#                 print(edu_titles[i].get_text())\n",
    "#             except:\n",
    "#                 pass\n",
    "            try:\n",
    "                print(edu_elements[i].get_text())\n",
    "            except:\n",
    "                pass\n",
    "            try:\n",
    "                print(edu_elements_1[i].get_text())\n",
    "            except:\n",
    "                pass\n",
    "\n",
    "        places_lived_link = places_lived_link.format(self.user)\n",
    "        about_placed_source = self.parse_html(places_lived_link)\n",
    "        about_placed_soup = bs(about_placed_source.text, 'lxml')\n",
    "        about_placed_elements = next(next(about_placed_soup.find_all(\"div\", {'class':\"hidden_elem\"})[13].children).children)\n",
    "        about_placed_elements = bs(about_placed_elements, 'lxml')\n",
    "\n",
    "        print(about_placed_elements.find('span', class_='_h72 lfloat _ohe _50f7').get_text())\n",
    "        for i in about_placed_elements.find_all('span', class_='_50f8 _2iem'):\n",
    "            print(i.get_text())\n",
    "\n",
    "        try:\n",
    "            print(about_education_elements.find('div', class_='fsl fwn fcg').get_text())\n",
    "        except:\n",
    "            pass\n",
    "        \n",
    "        contact_basic_info_link = contact_basic_info_link.format(self.user)\n",
    "        contact_info_source = self.parse_html(contact_basic_info_link)\n",
    "        \n",
    "        with open('facebook_contact.html', 'w') as f:\n",
    "            f.write(contact_info_source.text)\n",
    "        \n",
    "        family_relationship_link = family_relationship_link.format(self.user)\n",
    "        family_relationship_source = self.parse_html(family_relationship_link)\n",
    "        \n",
    "        with open('facebook_family.html', 'w') as f:\n",
    "            f.write(family_relationship_source.text)\n",
    "        \n",
    "        details_about_user_link = details_about_user_link.format(self.user)\n",
    "        details_about_source = self.parse_html(details_about_user_link)\n",
    "        \n",
    "        with open('facebook_details_about.html', 'w') as f:\n",
    "            f.write(details_about_source.text)\n",
    "        \n",
    "        life_events_link = life_events_link.format(self.user)\n",
    "        life_events_source = self.parse_html(life_events_link)\n",
    "        \n",
    "        with open('facebook_life.html', 'w') as f:\n",
    "            f.write(life_events_source.text)\n",
    "\n",
    "#         except:\n",
    "#             print('There is something wrong. Please check the selectors.')"
   ]
  },
  {
   "cell_type": "code",
   "execution_count": 4,
   "metadata": {},
   "outputs": [
    {
     "name": "stdout",
     "output_type": "stream",
     "text": [
      "User Name:  Tauqeer Sajid\n",
      "Cover iamge link:  https://www.facebook.com/photo.php?fbid=2587270881392248&set=a.345098308942861&type=3\n",
      "Profile image link:  https://www.facebook.com/photo.php?fbid=3203113089808021&set=a.116631895122838&type=3&source=11&referrer_profile_id=100003280856913\n",
      "Research Assistant (RA) at National Center for Cyber Security Pakistan\n",
      "24 August 2020 to present\n",
      "Studied BS in Computer Science at Air University\n",
      "Attended from 2016 to 2020\n",
      "Lives in Islamabad, Pakistan\n",
      "From Wazirabad\n",
      "2 family members\n",
      "Date of birth\n",
      "10 September 1996\n",
      "National Center for Cyber Security Pakistan\n",
      "Research Assistant (RA) · 24 August 2020 to present\n",
      "National Center for Cyber Security Pakistan\n",
      "internship · 10 June 2019 to 31 August 2019 · Islamabad, Pakistan\n",
      "Air University\n",
      "Class of 2020 · BS in Computer Science · Islamabad, Pakistan\n",
      "govt collage gujranwala\n",
      "Class of 2015 · pre engenering · Gujranwala, Pakistan\n",
      "Government High School, Ahmad Nagar (GHSAN)\n",
      "Gujranwala, Pakistan\n",
      "Current City and Home Town\n",
      "No places to show\n",
      "C Plus Plus · C sharp · Data science · Database · Machine Learning · MS-SQL · Python · Web scraping\n"
     ]
    }
   ],
   "source": [
    "bot = FaceBookBot()\n",
    "bot.parse_facebook(profile_link)       "
   ]
  },
  {
   "cell_type": "code",
   "execution_count": 58,
   "metadata": {},
   "outputs": [],
   "source": [
    "with open('facebook_contact.html', 'r') as f:\n",
    "    about_contact_source = f.read()"
   ]
  },
  {
   "cell_type": "code",
   "execution_count": 76,
   "metadata": {},
   "outputs": [
    {
     "name": "stdout",
     "output_type": "stream",
     "text": [
      "Contact Information\n",
      "No contact info to show\n",
      "Basic Information\n",
      "Date of birth\n",
      "10 September 1996\n",
      "Gender\n",
      "Male\n",
      "Languages\n",
      "English language\n",
      " · \n",
      "Urdu\n"
     ]
    }
   ],
   "source": [
    "about_contact_soup = bs(about_contact_source, 'lxml')\n",
    "about_contact_elements = next(next(about_contact_soup.find_all(\"div\", {'class':\"hidden_elem\"})[13].children).children)\n",
    "about_contact_elements = bs(about_contact_elements, 'lxml')\n",
    "\n",
    "for i in about_contact_elements.find('div', class_='_4qm1').find_all('span'):\n",
    "    print(i.get_text())\n",
    "\n",
    "about_contact_elements = next(next(about_contact_soup.find_all(\"div\", {'class':\"hidden_elem\"})[14].children).children)\n",
    "about_contact_elements = bs(about_contact_elements, 'lxml')\n",
    "\n",
    "for i in about_contact_elements.find('div', class_='_4qm1').find_all('span'):\n",
    "    print(i.get_text())"
   ]
  },
  {
   "cell_type": "code",
   "execution_count": 117,
   "metadata": {},
   "outputs": [],
   "source": [
    "with open('facebook_family.html', 'r') as f:\n",
    "    about_family_source = f.read()"
   ]
  },
  {
   "cell_type": "code",
   "execution_count": 118,
   "metadata": {},
   "outputs": [
    {
     "name": "stdout",
     "output_type": "stream",
     "text": [
      "Relationship\n",
      "Single\n"
     ]
    }
   ],
   "source": [
    "about_family_soup = bs(about_family_source, 'lxml')\n",
    "about_family_elements = next(next(about_family_soup.find_all(\"div\", {'class':\"hidden_elem\"})[13].children).children)\n",
    "about_family_elements = bs(about_family_elements, 'lxml')\n",
    "\n",
    "for i in about_family_elements.find('div', class_='_4qm1 editAnchor'):\n",
    "    print(i.get_text())"
   ]
  },
  {
   "cell_type": "code",
   "execution_count": 121,
   "metadata": {},
   "outputs": [
    {
     "name": "stdout",
     "output_type": "stream",
     "text": [
      "Family members\n",
      "Hamza RaoBrotherRana SajidFather\n"
     ]
    }
   ],
   "source": [
    "about_family_elements = next(next(about_family_soup.find_all(\"div\", {'class':\"hidden_elem\"})[14].children).children)\n",
    "about_family_elements = bs(about_family_elements, 'lxml')\n",
    "\n",
    "for i in about_family_elements.find('div', class_='_4qm1'):\n",
    "    try:\n",
    "        print(i.get_text())\n",
    "    except:\n",
    "        pass"
   ]
  },
  {
   "cell_type": "code",
   "execution_count": 129,
   "metadata": {},
   "outputs": [
    {
     "name": "stdout",
     "output_type": "stream",
     "text": [
      "Hamza\n",
      "['Hamza']\n",
      "RaoBrotherRana\n",
      "['Rao', 'Brother', 'Rana']\n",
      "SajidFather\n",
      "['Sajid', 'Father']\n"
     ]
    }
   ],
   "source": [
    "import re\n",
    "text = 'Hamza RaoBrotherRana SajidFather'\n",
    "for i in text.split():\n",
    "    print(i)\n",
    "    print(re.findall('[A-Z][^A-Z]*', i))"
   ]
  },
  {
   "cell_type": "code",
   "execution_count": null,
   "metadata": {},
   "outputs": [],
   "source": []
  }
 ],
 "metadata": {
  "kernelspec": {
   "display_name": "Python 3",
   "language": "python",
   "name": "python3"
  },
  "language_info": {
   "codemirror_mode": {
    "name": "ipython",
    "version": 3
   },
   "file_extension": ".py",
   "mimetype": "text/x-python",
   "name": "python",
   "nbconvert_exporter": "python",
   "pygments_lexer": "ipython3",
   "version": "3.8.3"
  }
 },
 "nbformat": 4,
 "nbformat_minor": 4
}
